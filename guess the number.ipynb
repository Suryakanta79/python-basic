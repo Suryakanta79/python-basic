{
 "cells": [
  {
   "cell_type": "code",
   "execution_count": 1,
   "id": "e571b722",
   "metadata": {},
   "outputs": [
    {
     "name": "stdout",
     "output_type": "stream",
     "text": [
      " 1. roll the dice             2. exit     \n",
      "what you want to do:-1\n",
      "your guess number 6....\n",
      " 1. roll the dice             2. exit     \n",
      "what you want to do:-1\n",
      "your guess number 1....\n",
      " 1. roll the dice             2. exit     \n",
      "what you want to do:-2\n"
     ]
    }
   ],
   "source": [
    "import random \n",
    "while True:     \n",
    "     print(''' 1. roll the dice             2. exit     ''')    \n",
    "     user = int(input(\"what you want to do:-\"))     \n",
    "     if user==1:         \n",
    "        number = random.randint(1,6)         \n",
    "        print(f\"your guess number {number}....\")     \n",
    "     else:         \n",
    "        break"
   ]
  },
  {
   "cell_type": "code",
   "execution_count": null,
   "id": "170ca7be",
   "metadata": {},
   "outputs": [],
   "source": []
  }
 ],
 "metadata": {
  "kernelspec": {
   "display_name": "Python 3",
   "language": "python",
   "name": "python3"
  },
  "language_info": {
   "codemirror_mode": {
    "name": "ipython",
    "version": 3
   },
   "file_extension": ".py",
   "mimetype": "text/x-python",
   "name": "python",
   "nbconvert_exporter": "python",
   "pygments_lexer": "ipython3",
   "version": "3.8.10"
  }
 },
 "nbformat": 4,
 "nbformat_minor": 5
}
