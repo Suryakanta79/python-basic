{
 "cells": [
  {
   "cell_type": "code",
   "execution_count": 1,
   "id": "b844184f",
   "metadata": {},
   "outputs": [
    {
     "name": "stdout",
     "output_type": "stream",
     "text": [
      "Enter your height in M: 1.82\n",
      "enter your weight in Kg: 58\n",
      "your bmi is 18 ,under weight\n"
     ]
    }
   ],
   "source": [
    "height= float(input(\"Enter your height in Meter: \"))\n",
    "weight= float(input(\"enter your weight in Kg: \"))\n",
    "bmi = round(weight/height**2)\n",
    "if bmi<18.5:\n",
    "  print(f\"your bmi is {bmi} ,under weight\")\n",
    "elif bmi<25:\n",
    "  print(f\"your bmi is  {bmi} ,ormal weight\")\n",
    "elif bmi<30:\n",
    "  print(f\"your bmi is {bmi} ,over weight\")\n",
    "elif bmi<35:\n",
    "  print(f\"your bmi is {bmi} ,obese\")\n",
    "else:\n",
    "  print(f\"clinically obese\")"
   ]
  },
  {
   "cell_type": "code",
   "execution_count": null,
   "id": "17f51309",
   "metadata": {},
   "outputs": [],
   "source": []
  }
 ],
 "metadata": {
  "kernelspec": {
   "display_name": "Python 3",
   "language": "python",
   "name": "python3"
  },
  "language_info": {
   "codemirror_mode": {
    "name": "ipython",
    "version": 3
   },
   "file_extension": ".py",
   "mimetype": "text/x-python",
   "name": "python",
   "nbconvert_exporter": "python",
   "pygments_lexer": "ipython3",
   "version": "3.8.10"
  }
 },
 "nbformat": 4,
 "nbformat_minor": 5
}
