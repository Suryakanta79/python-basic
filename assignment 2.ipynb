{
 "cells": [
  {
   "cell_type": "code",
   "execution_count": 9,
   "id": "ee360e64",
   "metadata": {},
   "outputs": [
    {
     "name": "stdout",
     "output_type": "stream",
     "text": [
      "How many terms? 11\n",
      "Fibonacci sequence:\n",
      "0\n",
      "1\n",
      "1\n",
      "2\n",
      "3\n",
      "5\n",
      "8\n",
      "13\n",
      "21\n",
      "34\n",
      "55\n"
     ]
    }
   ],
   "source": [
    "\n",
    "nterms = int(input(\"How many terms? \"))\n",
    "\n",
    "n1, n2 = 0, 1\n",
    "count = 0\n",
    "\n",
    "if nterms <= 0:\n",
    "   print(\"Please enter a positive integer\")\n",
    "elif nterms == 1:\n",
    "   print(\"Fibonacci sequence upto\",nterms,\":\")\n",
    "   print(n1)\n",
    "\n",
    "else:\n",
    "   print(\"Fibonacci sequence:\")\n",
    "   while count < nterms:\n",
    "       print(n1)\n",
    "       nth = n1 + n2\n",
    "       # update values\n",
    "       n1 = n2\n",
    "       n2 = nth\n",
    "       count += 1"
   ]
  },
  {
   "cell_type": "code",
   "execution_count": 14,
   "id": "8a59fd1d",
   "metadata": {},
   "outputs": [
    {
     "name": "stdout",
     "output_type": "stream",
     "text": [
      "Enter a number: 371\n",
      "371 is an Armstrong number\n"
     ]
    }
   ],
   "source": [
    "num = int(input(\"Enter a number: \"))  \n",
    "sum = 0  \n",
    "temp = num  \n",
    "  \n",
    "while temp > 0:  \n",
    "   digit = temp % 10  \n",
    "   sum += digit ** 3  \n",
    "   temp //= 10  \n",
    "  \n",
    "if num == sum:  \n",
    "   print(num,\"is an Armstrong number\")  \n",
    "else:  \n",
    "   print(num,\"is not an Armstrong number\")  \n"
   ]
  },
  {
   "cell_type": "code",
   "execution_count": 15,
   "id": "b97525cc",
   "metadata": {},
   "outputs": [
    {
     "name": "stdout",
     "output_type": "stream",
     "text": [
      "Input the number :12\n",
      "6084\n"
     ]
    }
   ],
   "source": [
    "def sumOfSeries(n):\n",
    "    sum = 0\n",
    "    for i in range(1, n+1):\n",
    "        sum +=i*i*i\n",
    "          \n",
    "    return sum\n",
    "  \n",
    "n = int(input(\"Input the number :\"))\n",
    "print(sumOfSeries(n))"
   ]
  },
  {
   "cell_type": "code",
   "execution_count": 18,
   "id": "4d77cdec",
   "metadata": {},
   "outputs": [
    {
     "name": "stdout",
     "output_type": "stream",
     "text": [
      "Input the lower value :10\n",
      "Input the upper value :1000\n",
      "153\n",
      "370\n",
      "371\n",
      "407\n"
     ]
    }
   ],
   "source": [
    "lower = int(input(\"Input the lower value :\" ))\n",
    "upper = int(input(\"Input the upper value :\" ))\n",
    "\n",
    "for num in range(lower, upper + 1):\n",
    "\n",
    "   order = len(str(num))\n",
    "\n",
    "   sum = 0\n",
    "\n",
    "   temp = num\n",
    "   while temp > 0:\n",
    "       digit = temp % 10\n",
    "       sum += digit ** order\n",
    "       temp //= 10\n",
    "\n",
    "   if num == sum:\n",
    "       print(num)"
   ]
  },
  {
   "cell_type": "code",
   "execution_count": 19,
   "id": "26b39e68",
   "metadata": {},
   "outputs": [
    {
     "name": "stdout",
     "output_type": "stream",
     "text": [
      "Enter a number: 20\n",
      "The sum is 210\n"
     ]
    }
   ],
   "source": [
    "num = int(input(\"Enter a number: \"))  \n",
    "\n",
    "if num < 0:\n",
    "   print(\"Enter a positive number\")\n",
    "else:\n",
    "   sum = 0\n",
    "   # use while loop to iterate until zero\n",
    "   while(num > 0):\n",
    "       sum += num\n",
    "       num -= 1\n",
    "   print(\"The sum is\", sum)"
   ]
  },
  {
   "cell_type": "code",
   "execution_count": 20,
   "id": "370d4490",
   "metadata": {},
   "outputs": [
    {
     "name": "stdout",
     "output_type": "stream",
     "text": [
      "How many terms? 15\n",
      "2 raised to power 0 is 1\n",
      "2 raised to power 1 is 2\n",
      "2 raised to power 2 is 4\n",
      "2 raised to power 3 is 8\n",
      "2 raised to power 4 is 16\n",
      "2 raised to power 5 is 32\n",
      "2 raised to power 6 is 64\n",
      "2 raised to power 7 is 128\n",
      "2 raised to power 8 is 256\n",
      "2 raised to power 9 is 512\n",
      "2 raised to power 10 is 1024\n",
      "2 raised to power 11 is 2048\n",
      "2 raised to power 12 is 4096\n",
      "2 raised to power 13 is 8192\n",
      "2 raised to power 14 is 16384\n"
     ]
    }
   ],
   "source": [
    "terms = int(input(\"How many terms? \"))\n",
    "\n",
    "result = list(map(lambda x: 2 ** x, range(terms)))\n",
    " \n",
    "for i in range(terms):\n",
    "    \n",
    "   print(\"2 raised to power\",i,\"is\",result[i])"
   ]
  },
  {
   "cell_type": "code",
   "execution_count": 21,
   "id": "79eb5b20",
   "metadata": {},
   "outputs": [
    {
     "name": "stdout",
     "output_type": "stream",
     "text": [
      "Enter a number: 45\n",
      "101101\n"
     ]
    }
   ],
   "source": [
    "def convertToBinary(n):\n",
    "   if n > 1:\n",
    "       convertToBinary(n//2)\n",
    "   print(n % 2,end = '')\n",
    "\n",
    "# decimal number\n",
    "dec = int(input(\"Enter a number: \"))\n",
    "\n",
    "convertToBinary(dec)\n",
    "print()"
   ]
  },
  {
   "cell_type": "code",
   "execution_count": 22,
   "id": "07c12e8f",
   "metadata": {},
   "outputs": [
    {
     "name": "stdout",
     "output_type": "stream",
     "text": [
      "Enter a Number (Numerator): \n",
      "36\n",
      "Enter a Number (denominator): \n",
      "12\n",
      "\n",
      "36 is divisible by 12\n"
     ]
    }
   ],
   "source": [
    "print(\"Enter a Number (Numerator): \")\n",
    "numn = int(input())\n",
    "print(\"Enter a Number (denominator): \")\n",
    "numd = int(input())\n",
    "\n",
    "if numn%numd==0:\n",
    "  print(\"\\n\" +str(numn)+ \" is divisible by \" +str(numd))\n",
    "else:\n",
    "  print(\"\\n\" +str(numn)+ \" is not divisible by \" +str(numd))"
   ]
  },
  {
   "cell_type": "code",
   "execution_count": 23,
   "id": "59dd76ca",
   "metadata": {},
   "outputs": [
    {
     "name": "stdout",
     "output_type": "stream",
     "text": [
      "Enter the Decimal Number: \n",
      "144\n",
      "\n",
      "Equivalent Hexadecimal Value is: \n",
      "90\n"
     ]
    }
   ],
   "source": [
    "print(\"Enter the Decimal Number: \")\n",
    "decnum = int(input())\n",
    "\n",
    "i = 0\n",
    "hexdecnum = []\n",
    "while decnum!=0:\n",
    "    rem = decnum % 16\n",
    "    if rem<10:\n",
    "        rem = rem+48\n",
    "    else:\n",
    "        rem = rem+55\n",
    "    rem = chr(rem)\n",
    "    hexdecnum.insert(i, rem)\n",
    "    i = i+1\n",
    "    decnum = int(decnum / 16)\n",
    "\n",
    "print(\"\\nEquivalent Hexadecimal Value is: \")\n",
    "i = i-1\n",
    "while i>=0:\n",
    "    print(end=hexdecnum[i])\n",
    "    i = i-1\n",
    "print()"
   ]
  },
  {
   "cell_type": "code",
   "execution_count": 24,
   "id": "06169f14",
   "metadata": {},
   "outputs": [
    {
     "name": "stdout",
     "output_type": "stream",
     "text": [
      "Enter the letterh\n",
      "The ASCII value of 'h' is 104\n"
     ]
    }
   ],
   "source": [
    "c = input(\"Enter the letter\")\n",
    "print(\"The ASCII value of '\" + c + \"' is\", ord(c))"
   ]
  },
  {
   "cell_type": "code",
   "execution_count": 26,
   "id": "5192a494",
   "metadata": {},
   "outputs": [
    {
     "name": "stdout",
     "output_type": "stream",
     "text": [
      "Enter a number: 45\n",
      "Enter a number: 120\n",
      "The H.C.F. is 15\n"
     ]
    }
   ],
   "source": [
    "\n",
    "def compute_hcf(x, y):\n",
    "\n",
    "\n",
    "    if x > y:\n",
    "        smaller = y\n",
    "    else:\n",
    "        smaller = x\n",
    "    for i in range(1, smaller+1):\n",
    "        if((x % i == 0) and (y % i == 0)):\n",
    "            hcf = i \n",
    "    return hcf\n",
    "\n",
    "num1 = int(input(\"Enter a number: \"))  \n",
    "num2 = int(input(\"Enter a number: \"))  \n",
    "\n",
    "print(\"The H.C.F. is\", compute_hcf(num1, num2))"
   ]
  },
  {
   "cell_type": "code",
   "execution_count": 30,
   "id": "98bb181e",
   "metadata": {},
   "outputs": [
    {
     "name": "stdout",
     "output_type": "stream",
     "text": [
      "Enter a number: 45\n",
      "Enter a number: 21\n",
      "The L.C.M. is 315\n"
     ]
    }
   ],
   "source": [
    "def compute_lcm(x, y):\n",
    "\n",
    "   if x > y:\n",
    "       greater = x\n",
    "   else:\n",
    "       greater = y\n",
    "\n",
    "   while(True):\n",
    "       if((greater % x == 0) and (greater % y == 0)):\n",
    "           lcm = greater\n",
    "           break\n",
    "       greater += 1\n",
    "\n",
    "   return lcm\n",
    "\n",
    "num1 = int(input(\"Enter a number: \"))  \n",
    "num2 = int(input(\"Enter a number: \"))  \n",
    "\n",
    "print(\"The L.C.M. is\", compute_lcm(num1, num2))"
   ]
  },
  {
   "cell_type": "code",
   "execution_count": 34,
   "id": "db59fb70",
   "metadata": {},
   "outputs": [
    {
     "name": "stdout",
     "output_type": "stream",
     "text": [
      "Enter a number: 21\n",
      "Enter a number: 60\n",
      "The L.C.M. is 420\n"
     ]
    }
   ],
   "source": [
    "def compute_gcd(x, y):\n",
    "\n",
    "   while(y):\n",
    "       x, y = y, x % y\n",
    "   return x\n",
    "def compute_lcm(x, y):\n",
    "   lcm = (x*y)//compute_gcd(x,y)\n",
    "   return lcm\n",
    "\n",
    "num1 = int(input(\"Enter a number: \"))  \n",
    "num2 = int(input(\"Enter a number: \"))  \n",
    "\n",
    "print(\"The L.C.M. is\", compute_lcm(num1, num2))"
   ]
  },
  {
   "cell_type": "code",
   "execution_count": 36,
   "id": "e79e5370",
   "metadata": {},
   "outputs": [
    {
     "name": "stdout",
     "output_type": "stream",
     "text": [
      "Enter a number: 10\n",
      "[-1, 1, -2, 2, -5, 5, -10, 10]\n"
     ]
    }
   ],
   "source": [
    "number = int(input(\"Enter a number: \")) \n",
    "factors = []\n",
    "\n",
    "for whole_number in range(1, number + 1):\n",
    "    if number % whole_number == 0:\n",
    "        factors.append(-whole_number)\n",
    "\n",
    "\n",
    "        factors.append(whole_number)\n",
    "\n",
    "print(factors)"
   ]
  },
  {
   "cell_type": "code",
   "execution_count": null,
   "id": "722591e1",
   "metadata": {},
   "outputs": [],
   "source": []
  }
 ],
 "metadata": {
  "kernelspec": {
   "display_name": "Python 3",
   "language": "python",
   "name": "python3"
  },
  "language_info": {
   "codemirror_mode": {
    "name": "ipython",
    "version": 3
   },
   "file_extension": ".py",
   "mimetype": "text/x-python",
   "name": "python",
   "nbconvert_exporter": "python",
   "pygments_lexer": "ipython3",
   "version": "3.8.10"
  }
 },
 "nbformat": 4,
 "nbformat_minor": 5
}
