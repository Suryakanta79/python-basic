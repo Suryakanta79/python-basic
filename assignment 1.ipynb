{
 "cells": [
  {
   "cell_type": "code",
   "execution_count": 1,
   "id": "25c4a903",
   "metadata": {},
   "outputs": [
    {
     "name": "stdout",
     "output_type": "stream",
     "text": [
      "Enter value in kilometers: 12\n",
      "12.00 kilometers is equal to 7.46 miles\n"
     ]
    }
   ],
   "source": [
    "kilometers = float(input(\"Enter value in kilometers: \"))\n",
    "\n",
    "conv_fac = 0.621371\n",
    "\n",
    "miles = kilometers * conv_fac\n",
    "print('%0.2f kilometers is equal to %0.2f miles' %(kilometers,miles))"
   ]
  },
  {
   "cell_type": "code",
   "execution_count": 5,
   "id": "ac7eb76c",
   "metadata": {},
   "outputs": [
    {
     "name": "stdout",
     "output_type": "stream",
     "text": [
      "Enter the value celcius  45\n",
      "45.0 degree Celsius is equal to 113.0 degree Fahrenheit\n"
     ]
    }
   ],
   "source": [
    "celsius = float(input(\"Enter the value celcius  \"))\n",
    "fahrenheit = (celsius * 1.8) + 32\n",
    "print('%0.1f degree Celsius is equal to %0.1f degree Fahrenheit' %(celsius,fahrenheit))"
   ]
  },
  {
   "cell_type": "code",
   "execution_count": 8,
   "id": "0be8c7af",
   "metadata": {},
   "outputs": [
    {
     "name": "stdout",
     "output_type": "stream",
     "text": [
      "Enter a number: -1\n",
      "Negative number\n"
     ]
    }
   ],
   "source": [
    "num = float(input(\"Enter a number: \"))\n",
    "if num > 0:\n",
    "   print(\"Positive number\")\n",
    "elif num == 0:\n",
    "   print(\"Zero\")\n",
    "else:\n",
    "   print(\"Negative number\")\n"
   ]
  },
  {
   "cell_type": "code",
   "execution_count": 9,
   "id": "2a54dd4c",
   "metadata": {},
   "outputs": [
    {
     "name": "stdout",
     "output_type": "stream",
     "text": [
      "Enter a number: 13\n",
      "13 is Odd\n"
     ]
    }
   ],
   "source": [
    "num = int(input(\"Enter a number: \"))\n",
    "if (num % 2) == 0:\n",
    "   print(\"{0} is Even\".format(num))\n",
    "else:\n",
    "   print(\"{0} is Odd\".format(num))"
   ]
  },
  {
   "cell_type": "code",
   "execution_count": 14,
   "id": "bd3a9269",
   "metadata": {},
   "outputs": [
    {
     "name": "stdout",
     "output_type": "stream",
     "text": [
      "Which year do you want cheack 130\n",
      "It is a not leap year\n"
     ]
    }
   ],
   "source": [
    "year = int(input(\"Which year do you want cheack \"))\n",
    "if year % 4 == 0:\n",
    "    if year % 100 == 0:\n",
    "        if year % 400 == 0:\n",
    "            print(\"It is a leap year\")\n",
    "        else:\n",
    "            print(\"It is a not leap year\")\n",
    "    else:\n",
    "        print(\"It is a leap year\")\n",
    "else:\n",
    "    print(\"It is a not leap year\")\n"
   ]
  },
  {
   "cell_type": "code",
   "execution_count": 15,
   "id": "d2ff3a31",
   "metadata": {},
   "outputs": [
    {
     "name": "stdout",
     "output_type": "stream",
     "text": [
      "Enter first number: 12\n",
      "Enter second number: 45\n",
      "Enter third number: 6\n",
      "The largest number is 45.0\n"
     ]
    }
   ],
   "source": [
    "num1 = float(input(\"Enter first number: \"))\n",
    "num2 = float(input(\"Enter second number: \"))\n",
    "num3 = float(input(\"Enter third number: \"))\n",
    "\n",
    "if (num1 >= num2) and (num1 >= num3):\n",
    "   largest = num1\n",
    "elif (num2 >= num1) and (num2 >= num3):\n",
    "   largest = num2\n",
    "else:\n",
    "   largest = num3\n",
    "\n",
    "print(\"The largest number is\", largest)"
   ]
  },
  {
   "cell_type": "code",
   "execution_count": 27,
   "id": "6958be90",
   "metadata": {},
   "outputs": [
    {
     "name": "stdout",
     "output_type": "stream",
     "text": [
      "Enter a number: 23\n",
      "23 is a prime number\n"
     ]
    }
   ],
   "source": [
    "\n",
    "num = int(input(\"Enter a number: \"))\n",
    "flag = False\n",
    "if num > 1:\n",
    "    for i in range(2, num):\n",
    "        if (num % i) == 0: \n",
    "            flag = True\n",
    "            \n",
    "            break\n",
    "if flag :\n",
    "    print(num, \"is not a prime number\")\n",
    "else:\n",
    "    print(num, \"is a prime number\")"
   ]
  },
  {
   "cell_type": "code",
   "execution_count": 31,
   "id": "9e7382a3",
   "metadata": {},
   "outputs": [
    {
     "name": "stdout",
     "output_type": "stream",
     "text": [
      "Enter lower range: 100\n",
      "Enter upper range: 170\n",
      "101\n",
      "103\n",
      "107\n",
      "109\n",
      "113\n",
      "127\n",
      "131\n",
      "137\n",
      "139\n",
      "149\n",
      "151\n",
      "157\n",
      "163\n",
      "167\n"
     ]
    }
   ],
   "source": [
    "lower = int(input(\"Enter lower range: \"))  \n",
    "upper = int(input(\"Enter upper range: \"))  \n",
    "  \n",
    "for num in range(lower,upper + 1):  \n",
    "   if num > 1:  \n",
    "       for i in range(2,num):  \n",
    "           if (num % i) == 0:  \n",
    "               break  \n",
    "       else:  \n",
    "           print(num)  "
   ]
  },
  {
   "cell_type": "code",
   "execution_count": 32,
   "id": "e2abc137",
   "metadata": {},
   "outputs": [
    {
     "name": "stdout",
     "output_type": "stream",
     "text": [
      "Enter a number: 14\n",
      "The factorial of 14 is 87178291200\n"
     ]
    }
   ],
   "source": [
    "num = int(input(\"Enter a number: \"))\n",
    "\n",
    "factorial = 1\n",
    "\n",
    "if num < 0:\n",
    "   print(\"Sorry, factorial does not exist for negative numbers\")\n",
    "elif num == 0:\n",
    "   print(\"The factorial of 0 is 1\")\n",
    "else:\n",
    "   for i in range(1,num + 1):\n",
    "       factorial = factorial*i\n",
    "   print(\"The factorial of\",num,\"is\",factorial)"
   ]
  },
  {
   "cell_type": "code",
   "execution_count": 34,
   "id": "6ad92553",
   "metadata": {},
   "outputs": [
    {
     "name": "stdout",
     "output_type": "stream",
     "text": [
      "Enter the number of which the user wants to print the multiplication table: 15\n",
      "The Multiplication Table of:  15\n",
      "15 X 1 = 15\n",
      "15 X 2 = 30\n",
      "15 X 3 = 45\n",
      "15 X 4 = 60\n",
      "15 X 5 = 75\n",
      "15 X 6 = 90\n",
      "15 X 7 = 105\n",
      "15 X 8 = 120\n",
      "15 X 9 = 135\n",
      "15 X 10 = 150\n"
     ]
    }
   ],
   "source": [
    "number = int(input (\"Enter the number of which the user wants to print the multiplication table: \"))\n",
    "\n",
    "print (\"The Multiplication Table of: \", number)\n",
    "\n",
    "for count in range(1, 11):      \n",
    "   print (number, 'X', count, '=', number * count)  "
   ]
  },
  {
   "cell_type": "code",
   "execution_count": null,
   "id": "35814f92",
   "metadata": {},
   "outputs": [],
   "source": []
  }
 ],
 "metadata": {
  "kernelspec": {
   "display_name": "Python 3",
   "language": "python",
   "name": "python3"
  },
  "language_info": {
   "codemirror_mode": {
    "name": "ipython",
    "version": 3
   },
   "file_extension": ".py",
   "mimetype": "text/x-python",
   "name": "python",
   "nbconvert_exporter": "python",
   "pygments_lexer": "ipython3",
   "version": "3.8.10"
  }
 },
 "nbformat": 4,
 "nbformat_minor": 5
}
