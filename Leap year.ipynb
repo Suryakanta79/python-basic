{
 "cells": [
  {
   "cell_type": "code",
   "execution_count": 1,
   "id": "0890cc56",
   "metadata": {},
   "outputs": [
    {
     "name": "stdout",
     "output_type": "stream",
     "text": [
      "which year year do you want to cheack2014\n",
      "it is not a leap year \n"
     ]
    }
   ],
   "source": [
    "year=int(input(\"which year year do you want to cheack\"))\n",
    "if year% 4==0:\n",
    " if year% 100==0:\n",
    "   if year% 400==0:\n",
    "    print(\"it is a leap year\")\n",
    "   else:\n",
    "    print(\"it is not a leap year\")\n",
    " else:\n",
    "   print(\"it is leap year\")\n",
    "else:\n",
    "  print(\"it is not a leap year \")"
   ]
  },
  {
   "cell_type": "code",
   "execution_count": null,
   "id": "2d0e55fe",
   "metadata": {},
   "outputs": [],
   "source": []
  }
 ],
 "metadata": {
  "kernelspec": {
   "display_name": "Python 3",
   "language": "python",
   "name": "python3"
  },
  "language_info": {
   "codemirror_mode": {
    "name": "ipython",
    "version": 3
   },
   "file_extension": ".py",
   "mimetype": "text/x-python",
   "name": "python",
   "nbconvert_exporter": "python",
   "pygments_lexer": "ipython3",
   "version": "3.8.10"
  }
 },
 "nbformat": 4,
 "nbformat_minor": 5
}
